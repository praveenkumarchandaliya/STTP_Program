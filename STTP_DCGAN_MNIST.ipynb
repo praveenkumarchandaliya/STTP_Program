{
  "cells": [
    {
      "cell_type": "code",
      "source": [
        "# MNIST image generation using DCGAN\n",
        "import torch\n",
        "from torch.autograd import Variable\n",
        "import torchvision.datasets as dsets\n",
        "import torchvision.transforms as transforms\n",
        "import numpy as np\n",
        "import matplotlib.pyplot as plt\n",
        "import os\n",
        "import imageio"
      ],
      "metadata": {
        "id": "qu7zR5Ts_V10"
      },
      "execution_count": null,
      "outputs": []
    },
    {
      "cell_type": "code",
      "execution_count": null,
      "metadata": {
        "id": "mbmC9diNDZdk"
      },
      "outputs": [],
      "source": [
        "# Parameters\n",
        "image_size = 64\n",
        "G_input_dim = 100\n",
        "G_output_dim = 1\n",
        "D_input_dim = 1\n",
        "D_output_dim = 1\n",
        "num_filters = [1024, 512, 256, 128]\n",
        "learning_rate = 0.0002\n",
        "betas = (0.5, 0.999)\n",
        "batch_size = 128\n",
        "num_epochs = 20\n",
        "data_dir = '../Data/MNIST_data/'\n",
        "save_dir = 'MNIST_DCGAN_results/'"
      ]
    },
    {
      "cell_type": "code",
      "execution_count": null,
      "metadata": {
        "colab": {
          "base_uri": "https://localhost:8080/"
        },
        "id": "OCVoCoI4DnQq",
        "outputId": "5b04823c-d9bd-40c2-bb31-16afdef97ee5"
      },
      "outputs": [
        {
          "name": "stdout",
          "output_type": "stream",
          "text": [
            "Downloading http://yann.lecun.com/exdb/mnist/train-images-idx3-ubyte.gz\n",
            "Failed to download (trying next):\n",
            "HTTP Error 404: Not Found\n",
            "\n",
            "Downloading https://ossci-datasets.s3.amazonaws.com/mnist/train-images-idx3-ubyte.gz\n",
            "Downloading https://ossci-datasets.s3.amazonaws.com/mnist/train-images-idx3-ubyte.gz to ../Data/MNIST_data/MNIST/raw/train-images-idx3-ubyte.gz\n"
          ]
        },
        {
          "name": "stderr",
          "output_type": "stream",
          "text": [
            "100%|██████████| 9.91M/9.91M [00:00<00:00, 11.6MB/s]\n"
          ]
        },
        {
          "name": "stdout",
          "output_type": "stream",
          "text": [
            "Extracting ../Data/MNIST_data/MNIST/raw/train-images-idx3-ubyte.gz to ../Data/MNIST_data/MNIST/raw\n",
            "\n",
            "Downloading http://yann.lecun.com/exdb/mnist/train-labels-idx1-ubyte.gz\n",
            "Failed to download (trying next):\n",
            "HTTP Error 404: Not Found\n",
            "\n",
            "Downloading https://ossci-datasets.s3.amazonaws.com/mnist/train-labels-idx1-ubyte.gz\n",
            "Downloading https://ossci-datasets.s3.amazonaws.com/mnist/train-labels-idx1-ubyte.gz to ../Data/MNIST_data/MNIST/raw/train-labels-idx1-ubyte.gz\n"
          ]
        },
        {
          "name": "stderr",
          "output_type": "stream",
          "text": [
            "100%|██████████| 28.9k/28.9k [00:00<00:00, 339kB/s]\n"
          ]
        },
        {
          "name": "stdout",
          "output_type": "stream",
          "text": [
            "Extracting ../Data/MNIST_data/MNIST/raw/train-labels-idx1-ubyte.gz to ../Data/MNIST_data/MNIST/raw\n",
            "\n",
            "Downloading http://yann.lecun.com/exdb/mnist/t10k-images-idx3-ubyte.gz\n",
            "Failed to download (trying next):\n",
            "HTTP Error 404: Not Found\n",
            "\n",
            "Downloading https://ossci-datasets.s3.amazonaws.com/mnist/t10k-images-idx3-ubyte.gz\n",
            "Downloading https://ossci-datasets.s3.amazonaws.com/mnist/t10k-images-idx3-ubyte.gz to ../Data/MNIST_data/MNIST/raw/t10k-images-idx3-ubyte.gz\n"
          ]
        },
        {
          "name": "stderr",
          "output_type": "stream",
          "text": [
            "100%|██████████| 1.65M/1.65M [00:00<00:00, 2.75MB/s]\n"
          ]
        },
        {
          "name": "stdout",
          "output_type": "stream",
          "text": [
            "Extracting ../Data/MNIST_data/MNIST/raw/t10k-images-idx3-ubyte.gz to ../Data/MNIST_data/MNIST/raw\n",
            "\n",
            "Downloading http://yann.lecun.com/exdb/mnist/t10k-labels-idx1-ubyte.gz\n",
            "Failed to download (trying next):\n",
            "HTTP Error 404: Not Found\n",
            "\n",
            "Downloading https://ossci-datasets.s3.amazonaws.com/mnist/t10k-labels-idx1-ubyte.gz\n",
            "Downloading https://ossci-datasets.s3.amazonaws.com/mnist/t10k-labels-idx1-ubyte.gz to ../Data/MNIST_data/MNIST/raw/t10k-labels-idx1-ubyte.gz\n"
          ]
        },
        {
          "name": "stderr",
          "output_type": "stream",
          "text": [
            "100%|██████████| 4.54k/4.54k [00:00<00:00, 8.34MB/s]"
          ]
        },
        {
          "name": "stdout",
          "output_type": "stream",
          "text": [
            "Extracting ../Data/MNIST_data/MNIST/raw/t10k-labels-idx1-ubyte.gz to ../Data/MNIST_data/MNIST/raw\n",
            "\n"
          ]
        },
        {
          "name": "stderr",
          "output_type": "stream",
          "text": [
            "\n"
          ]
        }
      ],
      "source": [
        "# MNIST dataset\n",
        "transform = transforms.Compose([transforms.Resize(image_size),\n",
        "                                transforms.ToTensor(),\n",
        "                                transforms.Normalize(mean=(0.5,), std=(0.5,))])\n",
        "\n",
        "mnist_data = dsets.MNIST(root=data_dir,\n",
        "                         train=True,\n",
        "                         transform=transform,\n",
        "                         download=True)\n",
        "\n",
        "data_loader = torch.utils.data.DataLoader(dataset=mnist_data,\n",
        "                                          batch_size=batch_size,\n",
        "                                          shuffle=True)\n"
      ]
    },
    {
      "cell_type": "code",
      "execution_count": null,
      "metadata": {
        "id": "sd3A8sMtELLU"
      },
      "outputs": [],
      "source": [
        "# De-normalization\n",
        "def denorm(x):\n",
        "    out = (x + 1) / 2\n",
        "    return out.clamp(0, 1)"
      ]
    },
    {
      "cell_type": "markdown",
      "source": [
        "![dcgan.png](data:image/png;base64,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)"
      ],
      "metadata": {
        "id": "g00JDxBEA345"
      }
    },
    {
      "cell_type": "code",
      "execution_count": null,
      "metadata": {
        "id": "E_F6nwySEQu7"
      },
      "outputs": [],
      "source": [
        "\n",
        "# Generator model\n",
        "class Generator(torch.nn.Module):\n",
        "    def __init__(self, input_dim, num_filters, output_dim):\n",
        "        super(Generator, self).__init__()\n",
        "        #num_filters = [1024, 512, 256, 128]\n",
        "        # Hidden layers\n",
        "        self.hidden_layer = torch.nn.Sequential()\n",
        "        for i in range(len(num_filters)):\n",
        "            # Deconvolutional layer\n",
        "            if i == 0:\n",
        "                deconv = torch.nn.ConvTranspose2d(input_dim, num_filters[i], kernel_size=4, stride=1, padding=0)\n",
        "            else:\n",
        "                deconv = torch.nn.ConvTranspose2d(num_filters[i-1], num_filters[i], kernel_size=4, stride=2, padding=1)\n",
        "\n",
        "            deconv_name = 'deconv' + str(i + 1)\n",
        "            self.hidden_layer.add_module(deconv_name, deconv)\n",
        "\n",
        "            # Initializer\n",
        "            torch.nn.init.normal(deconv.weight, mean=0.0, std=0.02)\n",
        "            torch.nn.init.constant(deconv.bias, 0.0)\n",
        "\n",
        "            # Batch normalization\n",
        "            bn_name = 'bn' + str(i + 1)\n",
        "            self.hidden_layer.add_module(bn_name, torch.nn.BatchNorm2d(num_filters[i]))\n",
        "\n",
        "            # Activation\n",
        "            act_name = 'act' + str(i + 1)\n",
        "            self.hidden_layer.add_module(act_name, torch.nn.ReLU())\n",
        "\n",
        "        # Output layer\n",
        "        self.output_layer = torch.nn.Sequential()\n",
        "        # Deconvolutional layer\n",
        "        out = torch.nn.ConvTranspose2d(num_filters[i], output_dim, kernel_size=4, stride=2, padding=1)\n",
        "        self.output_layer.add_module('out', out)\n",
        "        # Initializer\n",
        "        torch.nn.init.normal(out.weight, mean=0.0, std=0.02)\n",
        "        torch.nn.init.constant(out.bias, 0.0)\n",
        "        # Activation\n",
        "        self.output_layer.add_module('act', torch.nn.Tanh())\n",
        "\n",
        "    def forward(self, x):\n",
        "        h = self.hidden_layer(x)\n",
        "        out = self.output_layer(h)\n",
        "        return out\n",
        "\n",
        "\n",
        "# Discriminator model\n",
        "class Discriminator(torch.nn.Module):\n",
        "    def __init__(self, input_dim, num_filters, output_dim):\n",
        "        super(Discriminator, self).__init__()\n",
        "        # num_filters = [1024, 512, 256, 128]\n",
        "        # Hidden layers\n",
        "        self.hidden_layer = torch.nn.Sequential()\n",
        "        for i in range(len(num_filters)):\n",
        "            # Convolutional layer\n",
        "            if i == 0:\n",
        "                conv = torch.nn.Conv2d(input_dim, num_filters[i], kernel_size=4, stride=2, padding=1)\n",
        "            else:\n",
        "                conv = torch.nn.Conv2d(num_filters[i-1], num_filters[i], kernel_size=4, stride=2, padding=1)\n",
        "\n",
        "            conv_name = 'conv' + str(i + 1)\n",
        "            self.hidden_layer.add_module(conv_name, conv)\n",
        "\n",
        "            # Initializer\n",
        "            torch.nn.init.normal(conv.weight, mean=0.0, std=0.02)\n",
        "            torch.nn.init.constant(conv.bias, 0.0)\n",
        "\n",
        "            # Batch normalization\n",
        "            if i != 0:\n",
        "                bn_name = 'bn' + str(i + 1)\n",
        "                self.hidden_layer.add_module(bn_name, torch.nn.BatchNorm2d(num_filters[i]))\n",
        "\n",
        "            # Activation\n",
        "            act_name = 'act' + str(i + 1)\n",
        "            self.hidden_layer.add_module(act_name, torch.nn.LeakyReLU(0.2))\n",
        "\n",
        "        # Output layer\n",
        "        self.output_layer = torch.nn.Sequential()\n",
        "        # Convolutional layer\n",
        "        out = torch.nn.Conv2d(num_filters[i], output_dim, kernel_size=4, stride=1, padding=0)\n",
        "        self.output_layer.add_module('out', out)\n",
        "        # Initializer\n",
        "        torch.nn.init.normal(out.weight, mean=0.0, std=0.02)\n",
        "        torch.nn.init.constant(out.bias, 0.0)\n",
        "        # Activation\n",
        "        self.output_layer.add_module('act', torch.nn.Sigmoid())\n",
        "\n",
        "    def forward(self, x):\n",
        "        h = self.hidden_layer(x)\n",
        "        out = self.output_layer(h)\n",
        "        return out\n"
      ]
    },
    {
      "cell_type": "code",
      "execution_count": null,
      "metadata": {
        "id": "9JlDNjRpEVjV"
      },
      "outputs": [],
      "source": [
        "# Plot losses\n",
        "def plot_loss(d_losses, g_losses, num_epoch, save=False, save_dir='MNIST_DCGAN_results/', show=False):\n",
        "    fig, ax = plt.subplots()\n",
        "    ax.set_xlim(0, num_epochs)\n",
        "    ax.set_ylim(0, max(np.max(g_losses), np.max(d_losses))*1.1)\n",
        "    plt.xlabel('Epoch {0}'.format(num_epoch + 1))\n",
        "    plt.ylabel('Loss values')\n",
        "    plt.plot(d_losses, label='Discriminator')\n",
        "    plt.plot(g_losses, label='Generator')\n",
        "    plt.legend()\n",
        "\n",
        "    # save figure\n",
        "    if save:\n",
        "        if not os.path.exists(save_dir):\n",
        "            os.mkdir(save_dir)\n",
        "        save_fn = save_dir + 'MNIST_DCGAN_losses_epoch_{:d}'.format(num_epoch + 1) + '.png'\n",
        "        plt.savefig(save_fn)\n",
        "\n",
        "    if show:\n",
        "        plt.show()\n",
        "    else:\n",
        "        plt.close()\n"
      ]
    },
    {
      "cell_type": "code",
      "execution_count": null,
      "metadata": {
        "colab": {
          "background_save": true,
          "base_uri": "https://localhost:8080/"
        },
        "id": "EO4-teWIFFs6",
        "outputId": "df837f04-caab-4fcf-e6a6-0073a1666c5f"
      },
      "outputs": [
        {
          "name": "stderr",
          "output_type": "stream",
          "text": [
            "<ipython-input-5-75f590fec824>:19: FutureWarning: `nn.init.normal` is now deprecated in favor of `nn.init.normal_`.\n",
            "  torch.nn.init.normal(deconv.weight, mean=0.0, std=0.02)\n",
            "<ipython-input-5-75f590fec824>:20: FutureWarning: `nn.init.constant` is now deprecated in favor of `nn.init.constant_`.\n",
            "  torch.nn.init.constant(deconv.bias, 0.0)\n",
            "<ipython-input-5-75f590fec824>:36: FutureWarning: `nn.init.normal` is now deprecated in favor of `nn.init.normal_`.\n",
            "  torch.nn.init.normal(out.weight, mean=0.0, std=0.02)\n",
            "<ipython-input-5-75f590fec824>:37: FutureWarning: `nn.init.constant` is now deprecated in favor of `nn.init.constant_`.\n",
            "  torch.nn.init.constant(out.bias, 0.0)\n",
            "<ipython-input-5-75f590fec824>:65: FutureWarning: `nn.init.normal` is now deprecated in favor of `nn.init.normal_`.\n",
            "  torch.nn.init.normal(conv.weight, mean=0.0, std=0.02)\n",
            "<ipython-input-5-75f590fec824>:66: FutureWarning: `nn.init.constant` is now deprecated in favor of `nn.init.constant_`.\n",
            "  torch.nn.init.constant(conv.bias, 0.0)\n",
            "<ipython-input-5-75f590fec824>:83: FutureWarning: `nn.init.normal` is now deprecated in favor of `nn.init.normal_`.\n",
            "  torch.nn.init.normal(out.weight, mean=0.0, std=0.02)\n",
            "<ipython-input-5-75f590fec824>:84: FutureWarning: `nn.init.constant` is now deprecated in favor of `nn.init.constant_`.\n",
            "  torch.nn.init.constant(out.bias, 0.0)\n"
          ]
        },
        {
          "name": "stdout",
          "output_type": "stream",
          "text": [
            "Epoch [1/20], Step [1/469], D_loss: 2.5704, G_loss: 1.8755\n",
            "Epoch [1/20], Step [2/469], D_loss: 10.8079, G_loss: 6.2638\n",
            "Epoch [1/20], Step [3/469], D_loss: 4.5883, G_loss: 16.9035\n",
            "Epoch [1/20], Step [4/469], D_loss: 0.1609, G_loss: 14.2232\n",
            "Epoch [1/20], Step [5/469], D_loss: 1.5805, G_loss: 21.1073\n",
            "Epoch [1/20], Step [6/469], D_loss: 1.2197, G_loss: 15.8775\n",
            "Epoch [1/20], Step [7/469], D_loss: 0.5453, G_loss: 20.3998\n",
            "Epoch [1/20], Step [8/469], D_loss: 0.0549, G_loss: 15.9358\n",
            "Epoch [1/20], Step [9/469], D_loss: 0.4643, G_loss: 21.6273\n",
            "Epoch [1/20], Step [10/469], D_loss: 0.0337, G_loss: 17.3464\n",
            "Epoch [1/20], Step [11/469], D_loss: 0.5553, G_loss: 29.4024\n",
            "Epoch [1/20], Step [12/469], D_loss: 0.3608, G_loss: 31.6536\n",
            "Epoch [1/20], Step [13/469], D_loss: 0.0947, G_loss: 29.5962\n",
            "Epoch [1/20], Step [14/469], D_loss: 0.0084, G_loss: 19.1579\n",
            "Epoch [1/20], Step [15/469], D_loss: 0.8820, G_loss: 42.5828\n",
            "Epoch [1/20], Step [16/469], D_loss: 0.4494, G_loss: 52.2285\n",
            "Epoch [1/20], Step [17/469], D_loss: 0.0820, G_loss: 55.6524\n",
            "Epoch [1/20], Step [18/469], D_loss: 0.0029, G_loss: 57.1404\n",
            "Epoch [1/20], Step [19/469], D_loss: 0.0173, G_loss: 57.8048\n",
            "Epoch [1/20], Step [20/469], D_loss: 0.0001, G_loss: 57.8548\n",
            "Epoch [1/20], Step [21/469], D_loss: 0.0015, G_loss: 58.0738\n",
            "Epoch [1/20], Step [22/469], D_loss: 0.0003, G_loss: 58.2650\n",
            "Epoch [1/20], Step [23/469], D_loss: 0.0007, G_loss: 58.2642\n",
            "Epoch [1/20], Step [24/469], D_loss: 0.0000, G_loss: 58.0044\n",
            "Epoch [1/20], Step [25/469], D_loss: 0.0000, G_loss: 58.4215\n",
            "Epoch [1/20], Step [26/469], D_loss: 0.0039, G_loss: 58.1001\n"
          ]
        }
      ],
      "source": [
        "# Models\n",
        "G = Generator(G_input_dim, num_filters, G_output_dim)\n",
        "D = Discriminator(D_input_dim, num_filters[::-1], D_output_dim)\n",
        "#G.cuda()\n",
        "#D.cuda()\n",
        "G\n",
        "D\n",
        "\n",
        "# Loss function\n",
        "criterion = torch.nn.BCELoss()\n",
        "\n",
        "# Optimizers\n",
        "G_optimizer = torch.optim.Adam(G.parameters(), lr=learning_rate, betas=betas)\n",
        "D_optimizer = torch.optim.Adam(D.parameters(), lr=learning_rate, betas=betas)\n",
        "\n",
        "# Training GAN\n",
        "D_avg_losses = []\n",
        "G_avg_losses = []\n",
        "\n",
        "# Fixed noise for test\n",
        "num_test_samples = 5*5\n",
        "fixed_noise = torch.randn(num_test_samples, G_input_dim).view(-1, G_input_dim, 1, 1)\n",
        "\n",
        "for epoch in range(num_epochs):\n",
        "    D_losses = []\n",
        "    G_losses = []\n",
        "\n",
        "    # minibatch training\n",
        "    for i, (images, _) in enumerate(data_loader):\n",
        "\n",
        "        # image data\n",
        "        mini_batch = images.size()[0]\n",
        "        #x_ = Variable(images.cuda())\n",
        "        x_ = Variable(images)\n",
        "\n",
        "        # labels\n",
        "        #y_real_ = Variable(torch.ones(mini_batch).cuda())\n",
        "        #y_fake_ = Variable(torch.zeros(mini_batch).cuda())\n",
        "        y_real_ = Variable(torch.ones(mini_batch)) # Label  1 Real\n",
        "        y_fake_ = Variable(torch.zeros(mini_batch)) # Label 0 Fake\n",
        "\n",
        "        # Train discriminator with real data\n",
        "        D_real_decision = D(x_).squeeze()\n",
        "        # print(D_real_decision, y_real_)\n",
        "        D_real_loss = criterion(D_real_decision, y_real_)\n",
        "\n",
        "        # Train discriminator with fake data\n",
        "        z_ = torch.randn(mini_batch, G_input_dim).view(-1, G_input_dim, 1, 1)\n",
        "        #z_ = Variable(z_.cuda())\n",
        "        z_ = Variable(z_)\n",
        "        gen_image = G(z_)\n",
        "\n",
        "        D_fake_decision = D(gen_image).squeeze()\n",
        "        D_fake_loss = criterion(D_fake_decision, y_fake_)\n",
        "\n",
        "        # Back propagation\n",
        "        D_loss = D_real_loss + D_fake_loss\n",
        "        D.zero_grad()\n",
        "        D_loss.backward()\n",
        "        D_optimizer.step()\n",
        "\n",
        "        # Train generator\n",
        "        z_ = torch.randn(mini_batch, G_input_dim).view(-1, G_input_dim, 1, 1)\n",
        "        #z_ = Variable(z_.cuda())\n",
        "        z_ = Variable(z_)\n",
        "        gen_image = G(z_)\n",
        "\n",
        "        D_fake_decision = D(gen_image).squeeze()\n",
        "        G_loss = criterion(D_fake_decision, y_real_)\n",
        "\n",
        "        # Back propagation\n",
        "        D.zero_grad()\n",
        "        G.zero_grad()\n",
        "        G_loss.backward()\n",
        "        G_optimizer.step()\n",
        "\n",
        "        # loss values\n",
        "        D_losses.append(D_loss.item())\n",
        "        G_losses.append(G_loss.item())\n",
        "\n",
        "        print('Epoch [%d/%d], Step [%d/%d], D_loss: %.4f, G_loss: %.4f'\n",
        "              % (epoch+1, num_epochs, i+1, len(data_loader), D_loss.item(), G_loss.item()))\n",
        "\n",
        "    D_avg_loss = torch.mean(torch.FloatTensor(D_losses))\n",
        "    G_avg_loss = torch.mean(torch.FloatTensor(G_losses))\n",
        "\n",
        "    # avg loss values for plot\n",
        "    D_avg_losses.append(D_avg_loss)\n",
        "    G_avg_losses.append(G_avg_loss)\n",
        "\n",
        "    plot_loss(D_avg_losses, G_avg_losses, epoch, save=True)\n",
        "\n",
        "    # Show result for fixed noise\n",
        "    plot_result(G, fixed_noise, epoch, save=True, fig_size=(5, 5))\n",
        "\n",
        "# Make gif\n",
        "loss_plots = []\n",
        "gen_image_plots = []\n",
        "for epoch in range(num_epochs):\n",
        "    # plot for generating gif\n",
        "    save_fn1 = save_dir + 'MNIST_DCGAN_losses_epoch_{:d}'.format(epoch + 1) + '.png'\n",
        "    loss_plots.append(imageio.imread(save_fn1))\n",
        "\n",
        "    save_fn2 = save_dir + 'MNIST_DCGAN_epoch_{:d}'.format(epoch + 1) + '.png'\n",
        "    gen_image_plots.append(imageio.imread(save_fn2))\n",
        "\n",
        "imageio.mimsave(save_dir + 'MNIST_DCGAN_losses_epochs_{:d}'.format(num_epochs) + '.gif', loss_plots, fps=5)\n",
        "imageio.mimsave(save_dir + 'MNIST_DCGAN_epochs_{:d}'.format(num_epochs) + '.gif', gen_image_plots, fps=5)"
      ]
    }
  ],
  "metadata": {
    "colab": {
      "provenance": []
    },
    "kernelspec": {
      "display_name": "Python 3",
      "name": "python3"
    },
    "language_info": {
      "name": "python"
    }
  },
  "nbformat": 4,
  "nbformat_minor": 0
}